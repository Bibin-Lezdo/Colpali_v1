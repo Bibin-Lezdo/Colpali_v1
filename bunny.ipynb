{
 "cells": [
  {
   "cell_type": "code",
   "execution_count": null,
   "metadata": {},
   "outputs": [],
   "source": [
    "%pip install torch transformers accelerate pillow pdf2image\n",
    "!apt-get install -y poppler-utils"
   ]
  },
  {
   "cell_type": "code",
   "execution_count": 2,
   "metadata": {},
   "outputs": [],
   "source": [
    "import torch\n",
    "import transformers\n",
    "from transformers import AutoModelForCausalLM, AutoTokenizer\n",
    "from PIL import Image\n",
    "import warnings\n",
    "\n",
    "# disable some warnings\n",
    "transformers.logging.set_verbosity_error()\n",
    "transformers.logging.disable_progress_bar()\n",
    "warnings.filterwarnings('ignore')\n",
    "\n",
    "\n",
    "device = 'cuda'  # or cpu\n",
    "torch.set_default_device(device)\n",
    "\n",
    "model = AutoModelForCausalLM.from_pretrained(\n",
    "    'BAAI/Bunny-v1_0-4B',\n",
    "    torch_dtype=torch.float16, # float32 for cpu\n",
    "    device_map='auto',\n",
    "    trust_remote_code=True)\n",
    "tokenizer = AutoTokenizer.from_pretrained(\n",
    "    'BAAI/Bunny-v1_0-4B',\n",
    "    trust_remote_code=True)\n",
    "\n"
   ]
  },
  {
   "cell_type": "code",
   "execution_count": 6,
   "metadata": {},
   "outputs": [],
   "source": [
    "from pdf2image import convert_from_path\n",
    "\n",
    "pdf_path = '/home/Redacted.pdf'  \n",
    "images = convert_from_path(pdf_path)"
   ]
  },
  {
   "cell_type": "code",
   "execution_count": 20,
   "metadata": {},
   "outputs": [
    {
     "name": "stdout",
     "output_type": "stream",
     "text": [
      "The assessment and plan of the patient is that they have a history of a neurological condition, and they have been referred for follow-up neurological consultation. The patient has experienced pre-operative symptoms, and the plan is to evaluate their condition further.\n"
     ]
    }
   ],
   "source": [
    "import torch\n",
    "from PIL import Image\n",
    "\n",
    "def limit_images(limit):\n",
    "    limited_images=[]\n",
    "    for i in range(0,len(images)-1):\n",
    "        if(1<limit):\n",
    "            limited_images.append(images[i])\n",
    "        else:\n",
    "            break\n",
    "    return limited_images\n",
    "\n",
    "limited_images=limit_images(230)\n",
    "    \n",
    "image = limited_images\n",
    "image = image if isinstance(image, list) else [image]\n",
    "prompt = 'what is the Assessment and Plan of the patient?'\n",
    "text = f\"A chat between a curious user and an artificial intelligence assistant. The assistant gives helpful, detailed, and polite answers to the user's questions. USER: <image>\\n{prompt} ASSISTANT:\"\n",
    "\n",
    "text_chunks = [tokenizer(chunk).input_ids for chunk in text.split('<image>')]\n",
    "\n",
    "input_ids = torch.tensor(text_chunks[0] + [-200] + text_chunks[1][1:], dtype=torch.long).unsqueeze(0).to(device)\n",
    "\n",
    "\n",
    "image_tensor = model.process_images(image, model.config).to(dtype=model.dtype, device=device)\n",
    "\n",
    "output_ids = model.generate(\n",
    "    input_ids,\n",
    "    images=image_tensor,\n",
    "    max_new_tokens=100,\n",
    "    use_cache=True,\n",
    "    repetition_penalty=1.0 # increase this to avoid chattering\n",
    ")[0]\n",
    "\n",
    "print(tokenizer.decode(output_ids[input_ids.shape[1]:], skip_special_tokens=True).strip())"
   ]
  }
 ],
 "metadata": {
  "kernelspec": {
   "display_name": "py3.10",
   "language": "python",
   "name": "python3"
  },
  "language_info": {
   "codemirror_mode": {
    "name": "ipython",
    "version": 3
   },
   "file_extension": ".py",
   "mimetype": "text/x-python",
   "name": "python",
   "nbconvert_exporter": "python",
   "pygments_lexer": "ipython3",
   "version": "3.10.14"
  }
 },
 "nbformat": 4,
 "nbformat_minor": 2
}
